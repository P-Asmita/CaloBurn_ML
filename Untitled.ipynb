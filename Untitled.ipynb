{
 "cells": [
  {
   "cell_type": "code",
   "execution_count": null,
   "id": "8c014ec8",
   "metadata": {},
   "outputs": [],
   "source": [
    "pip install plotly"
   ]
  },
  {
   "cell_type": "code",
   "execution_count": null,
   "id": "d1950a4b",
   "metadata": {},
   "outputs": [],
   "source": [
    "import re\n",
    "import pandas as pd\n",
    "import os\n",
    "import datetime as date\n",
    "import numpy as np\n",
    "import matplotlib\n",
    "import matplotlib.pyplot as plt\n",
    "import seaborn as sns\n",
    "import emoji\n",
    "from collections import Counter\n",
    "import plotly.express as px"
   ]
  },
  {
   "cell_type": "code",
   "execution_count": null,
   "id": "8a76f63c",
   "metadata": {},
   "outputs": [],
   "source": [
    "pip install --upgrade Pillow"
   ]
  },
  {
   "cell_type": "code",
   "execution_count": null,
   "id": "04521797",
   "metadata": {},
   "outputs": [],
   "source": [
    "pip install wordcloud==1.8.0"
   ]
  },
  {
   "cell_type": "code",
   "execution_count": null,
   "id": "2cbfd4f0",
   "metadata": {},
   "outputs": [],
   "source": [
    "pip install emoji==1.6.3"
   ]
  },
  {
   "cell_type": "code",
   "execution_count": null,
   "id": "2af4788e",
   "metadata": {},
   "outputs": [],
   "source": [
    "chat_path='_chat.txt'\n",
    "data=pd.read_fwf(chat_path)"
   ]
  },
  {
   "cell_type": "code",
   "execution_count": null,
   "id": "5b143205",
   "metadata": {},
   "outputs": [],
   "source": [
    "data.head()"
   ]
  },
  {
   "cell_type": "code",
   "execution_count": null,
   "id": "b9c763e9",
   "metadata": {},
   "outputs": [],
   "source": [
    "print(f\"Total messages: {data.shape[0]}\")"
   ]
  },
  {
   "cell_type": "code",
   "execution_count": null,
   "id": "98984384",
   "metadata": {},
   "outputs": [],
   "source": [
    "def textTo_df(txt):\n",
    "    with open(txt,encoding=\"utf-8\") as file:\n",
    "        data=file.read()\n",
    "        data=data.splitlines()\n",
    "        \n",
    "    author=[]\n",
    "    message=[]\n",
    "    datetime=[]\n",
    "    \n",
    "    for row in data:\n",
    "        # timestamp before first space\n",
    "        try:\n",
    "            str_date=re.findall(r'\\[.*?\\]',row)[0]\n",
    "            datetime.append(str(str_date)[1:-1].strip())\n",
    "        except:\n",
    "            datetime.append('')\n",
    "        try:\n",
    "            #author between am/pm, dash and colon\n",
    "            s=re.search('] (.*?):',row).group(1)\n",
    "            author.append(s)\n",
    "        except:\n",
    "            author.append('')\n",
    "            \n",
    "        try:\n",
    "            #message after first colon\n",
    "            message.append(row.split(': ',1)[1])\n",
    "        except:\n",
    "            message.append('')\n",
    "    df=pd.DataFrame(zip(datetime,author,message),columns=['datetime','author','message'])\n",
    "    df=df[df.author!=''].reset_index(drop=True)\n",
    "    return df\n",
    "whatsapp_df=textTo_df(chat_path)"
   ]
  },
  {
   "cell_type": "code",
   "execution_count": null,
   "id": "2ba2ea2e",
   "metadata": {},
   "outputs": [],
   "source": [
    "whatsapp_df['datetime']=pd.to_datetime(whatsapp_df.datetime,format='%d/%m/%y, %I:%M:%S %p')"
   ]
  },
  {
   "cell_type": "code",
   "execution_count": null,
   "id": "f9982816",
   "metadata": {},
   "outputs": [],
   "source": [
    "whatsapp_df['Word_Count']=whatsapp_df[\"message\"].apply(lambda s: len(s.split(' ')))"
   ]
  },
  {
   "cell_type": "code",
   "execution_count": null,
   "id": "c1183fb3",
   "metadata": {
    "scrolled": true
   },
   "outputs": [],
   "source": [
    "whatsapp_df.head(15)"
   ]
  },
  {
   "cell_type": "code",
   "execution_count": null,
   "id": "58d4c5ee",
   "metadata": {},
   "outputs": [],
   "source": [
    "#Cleaning media from data"
   ]
  },
  {
   "cell_type": "code",
   "execution_count": null,
   "id": "e03f3573",
   "metadata": {},
   "outputs": [],
   "source": [
    "media=whatsapp_df[whatsapp_df['message']==\"<Media omitted\"]\n",
    "whatsapp_df.drop(media.index,inplace=True)"
   ]
  },
  {
   "cell_type": "code",
   "execution_count": null,
   "id": "2fc5faee",
   "metadata": {},
   "outputs": [],
   "source": [
    "whatsapp_df.reset_index(inplace=True,drop=True)\n",
    "print(whatsapp_df.shape)"
   ]
  },
  {
   "cell_type": "code",
   "execution_count": null,
   "id": "824fb59b",
   "metadata": {},
   "outputs": [],
   "source": [
    "#All authors in the chat\n",
    "author=whatsapp_df.author.unique()\n",
    "print('Authors: ',author)"
   ]
  },
  {
   "cell_type": "code",
   "execution_count": null,
   "id": "3abef6cc",
   "metadata": {},
   "outputs": [],
   "source": [
    "#Timeline of the data\n",
    "start_date=whatsapp_df.datetime.min()\n",
    "end_date=whatsapp_df.datetime.max()\n",
    "\n",
    "diff=end_date-start_date\n",
    "print('Timeline- from {} till {} i.e., approx. {} hours'.format(start_date,end_date,diff))"
   ]
  },
  {
   "cell_type": "code",
   "execution_count": null,
   "id": "7b6296f1",
   "metadata": {},
   "outputs": [],
   "source": [
    "#Average messages per day\n",
    "diff.to_timedelta64()\n",
    "avg=whatsapp_df.shape[0]/diff.days\n",
    "print(\"Average {} messages per day\".format(int(avg)))"
   ]
  },
  {
   "cell_type": "code",
   "execution_count": null,
   "id": "24761c42",
   "metadata": {},
   "outputs": [],
   "source": [
    "#Most active time\n",
    "whatsapp_df_copy=whatsapp_df.copy()\n",
    "whatsapp_df_copy[\"hours\"]=whatsapp_df['datetime'].apply(lambda x:x.hour)\n",
    "times_df=whatsapp_df_copy.groupby('hours').count().reset_index().sort_values(by='hours')"
   ]
  },
  {
   "cell_type": "code",
   "execution_count": null,
   "id": "a135fcbd",
   "metadata": {},
   "outputs": [],
   "source": [
    "matplotlib.rcParams['font.size']=15\n",
    "matplotlib.rcParams['figure.figsize']=(20,10)\n",
    "sns.set_style('darkgrid')\n",
    "plt.title('Most activity hour')\n",
    "time_plot=sns.barplot(x=\"hours\",y=\"message\",data=times_df,dodge=False)\n",
    "labels=[\"12 AM\",\"1 AM\",\"2 AM\",\"3 AM\",\"4 AM\",\"5 AM\",\"6 AM\",\"7 AM\",\"8 AM\",\"9 AM\",\"10 AM\",\"11 AM\",\"12 PM\",\"1 PM\",\"2 PM\",\"3 PM\",\"4 PM\",\"5 PM\",\"6 PM\",\"7 PM\",\"8 PM\",\"9 PM\",\"10 PM\",\"11 PM\"]\n",
    "plt.xticks([i for i in range(24)],labels=labels,rotation=30)\n",
    "plt.show()"
   ]
  },
  {
   "cell_type": "code",
   "execution_count": null,
   "id": "d9d67a86",
   "metadata": {},
   "outputs": [],
   "source": [
    "# most used emoji\n",
    "whatsapp_df_copy_2=whatsapp_df.copy()\n",
    "emoji_count=Counter()\n",
    "emoji_list=list(emoji.UNICODE_EMOJI_ENGLISH.keys())\n",
    "r=re.compile('|'.join(re.escape(p) for p in emoji_list))\n",
    "#print(r)\n",
    "for idx,row in whatsapp_df_copy_2.iterrows():\n",
    "    found=r.findall(row[\"message\"])\n",
    "    for emojii in found:\n",
    "        emoji_count[emojii]+=1"
   ]
  },
  {
   "cell_type": "code",
   "execution_count": null,
   "id": "9055c49f",
   "metadata": {},
   "outputs": [],
   "source": [
    "emoji_df=pd.DataFrame()\n",
    "emoji_df['emoji']=['']*10\n",
    "emoji_df['count_emojis']=[0]*10\n",
    "\n",
    "i=0\n",
    "for item in emoji_count.most_common(10):\n",
    "    emoji_df.emoji[i]=item[0]\n",
    "    emoji_df.count_emojis[i]=int(item[1])\n",
    "    i+=1"
   ]
  },
  {
   "cell_type": "code",
   "execution_count": null,
   "id": "13e88e71",
   "metadata": {},
   "outputs": [],
   "source": [
    "emoji_df"
   ]
  },
  {
   "cell_type": "code",
   "execution_count": null,
   "id": "bcd1e90a",
   "metadata": {},
   "outputs": [],
   "source": [
    "#Author wise stats\n",
    "whatsapp_data=whatsapp_df.copy()\n",
    "l=whatsapp_data.author.unique()\n",
    "emoji_dict={}\n",
    "for i in range(len(l)):\n",
    "    req_df= whatsapp_data[whatsapp_data[\"author\"] == l[i]]\n",
    "    print(f'Stats of {l[i]} -')\n",
    "    print('Messages Sent', req_df.shape[0])\n",
    "    words_per_message = (np.sum(req_df['Word_Count']))/req_df.shape[0]\n",
    "    print('Words per message', words_per_message)"
   ]
  },
  {
   "cell_type": "code",
   "execution_count": null,
   "id": "458693c2",
   "metadata": {},
   "outputs": [],
   "source": [
    "#wordcloud\n",
    "from wordcloud import WordCloud, STOPWORDS"
   ]
  },
  {
   "cell_type": "code",
   "execution_count": null,
   "id": "8cc28f20",
   "metadata": {},
   "outputs": [],
   "source": [
    "whatsapp_df_copy_3=whatsapp_df.copy()\n",
    "stopwords=set(STOPWORDS)\n",
    "word=\" \".join(review for review in whatsapp_df_copy_3.message)\n",
    "\n",
    "wordcloud=WordCloud(width=500, height=500,stopwords=stopwords, background_color=\"white\",min_font_size=10).generate(word)\n",
    "plt.figure(figsize=(20,10))\n",
    "plt.imshow(wordcloud,interpolation='bilinear')\n",
    "plt.axis(\"off\")\n",
    "plt.show()"
   ]
  },
  {
   "cell_type": "code",
   "execution_count": null,
   "id": "cd6f9bc9",
   "metadata": {},
   "outputs": [],
   "source": [
    "whatsapp_df_copy_4=whatsapp_df.copy()\n",
    "df = pd.DataFrame(whatsapp_df_copy_4, columns=[\"DateTime\", 'Author', 'Message'])\n",
    "from nltk.sentiment.vader import SentimentIntensityAnalyzer\n",
    "sentiments = SentimentIntensityAnalyzer()\n",
    "whatsapp_df_copy_4[\"Positive\"] = [sentiments.polarity_scores(i)[\"pos\"] for i in whatsapp_df_copy_4[\"message\"]]\n",
    "whatsapp_df_copy_4[\"Negative\"]=[sentiments.polarity_scores(i)[\"neg\"] for i in whatsapp_df_copy_4[\"message\"]]\n",
    "whatsapp_df_copy_4[\"Neutral\"]=[sentiments.polarity_scores(i)[\"neu\"] for i in whatsapp_df_copy_4[\"message\"]]\n",
    "print(whatsapp_df_copy_4.head())"
   ]
  },
  {
   "cell_type": "code",
   "execution_count": null,
   "id": "7753cc11",
   "metadata": {},
   "outputs": [],
   "source": [
    "x=sum(whatsapp_df_copy_4[\"Positive\"])\n",
    "y=sum(whatsapp_df_copy_4[\"Negative\"])\n",
    "z=sum(whatsapp_df_copy_4[\"Neutral\"])\n",
    "\n",
    "def sentiment_score(a,b,c):\n",
    "    if(a>b) and (a>c):\n",
    "        print(\"Positive\")\n",
    "    elif (b>a) and (b>c):\n",
    "        print(\"Negative\")\n",
    "    else:\n",
    "        print(\"Neutral\")\n",
    "print(\"Overall sentiment is :\")\n",
    "sentiment_score(x, y, z)"
   ]
  }
 ],
 "metadata": {
  "kernelspec": {
   "display_name": "Python 3 (ipykernel)",
   "language": "python",
   "name": "python3"
  },
  "language_info": {
   "codemirror_mode": {
    "name": "ipython",
    "version": 3
   },
   "file_extension": ".py",
   "mimetype": "text/x-python",
   "name": "python",
   "nbconvert_exporter": "python",
   "pygments_lexer": "ipython3",
   "version": "3.9.7"
  }
 },
 "nbformat": 4,
 "nbformat_minor": 5
}
